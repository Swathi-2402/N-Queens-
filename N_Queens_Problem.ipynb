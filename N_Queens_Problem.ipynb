{
  "nbformat": 4,
  "nbformat_minor": 0,
  "metadata": {
    "colab": {
      "provenance": []
    },
    "kernelspec": {
      "name": "python3",
      "display_name": "Python 3"
    },
    "language_info": {
      "name": "python"
    }
  },
  "cells": [
    {
      "cell_type": "code",
      "source": [
        "def is_safe(board, row, col, n):\n",
        "    for i in range(col):\n",
        "        if board[row][i] == 1:\n",
        "            return False\n",
        "\n",
        "    for i, j in zip(range(row, -1, -1), range(col, -1, -1)):\n",
        "        if board[i][j] == 1:\n",
        "            return False\n",
        "\n",
        "    for i, j in zip(range(row, n, 1), range(col, -1, -1)):\n",
        "        if board[i][j] == 1:\n",
        "            return False\n",
        "\n",
        "    return True\n",
        "\n",
        "def solve_n_queens_util(board, col, n, solutions):\n",
        "    if col == n:\n",
        "        solutions.append([row[:] for row in board])\n",
        "        return\n",
        "\n",
        "    for i in range(n):\n",
        "        if is_safe(board, i, col, n):\n",
        "            board[i][col] = 1\n",
        "            solve_n_queens_util(board, col + 1, n, solutions)\n",
        "            board[i][col] = 0\n",
        "\n",
        "def solve_n_queens(n):\n",
        "    board = [[0] * n for _ in range(n)]\n",
        "    solutions = []\n",
        "    solve_n_queens_util(board, 0, n, solutions)\n",
        "\n",
        "    for idx, sol in enumerate(solutions, start=1):\n",
        "        print(f\"Solution {idx}:\")\n",
        "        for row in sol:\n",
        "            print(\"[{}]\".format(\", \".join(\"Q\" if cell == 1 else \"0\" for cell in row)))\n",
        "        print()\n",
        "\n",
        "solve_n_queens(4)\n"
      ],
      "metadata": {
        "colab": {
          "base_uri": "https://localhost:8080/"
        },
        "id": "al-Ou7VH6FXf",
        "outputId": "c686621d-e7f8-46e8-d2f7-11ded16c0016"
      },
      "execution_count": null,
      "outputs": [
        {
          "output_type": "stream",
          "name": "stdout",
          "text": [
            "Solution 1:\n",
            "[0, 0, Q, 0]\n",
            "[Q, 0, 0, 0]\n",
            "[0, 0, 0, Q]\n",
            "[0, Q, 0, 0]\n",
            "\n",
            "Solution 2:\n",
            "[0, Q, 0, 0]\n",
            "[0, 0, 0, Q]\n",
            "[Q, 0, 0, 0]\n",
            "[0, 0, Q, 0]\n",
            "\n"
          ]
        }
      ]
    }
  ]
}